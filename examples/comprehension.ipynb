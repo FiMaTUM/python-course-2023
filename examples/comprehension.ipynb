{
 "cells": [
  {
   "cell_type": "code",
   "execution_count": 2,
   "id": "e507732f-2755-4c8e-ba24-41bec39653fa",
   "metadata": {},
   "outputs": [],
   "source": [
    "x = [\"Alex\", \"Simon\", \"June\", \"Sophia\", \"Tobias\"]"
   ]
  },
  {
   "cell_type": "code",
   "execution_count": 6,
   "id": "2110eaef-299b-43d8-ae79-95bf41e68900",
   "metadata": {},
   "outputs": [],
   "source": [
    "x_length = []\n",
    "for name in x:\n",
    "    x_length.append(len(name))"
   ]
  },
  {
   "cell_type": "code",
   "execution_count": 11,
   "id": "c4b90bc6-b94b-4879-9ec0-67db8e039f7f",
   "metadata": {},
   "outputs": [],
   "source": [
    "x_length = [len(name) for name in x]"
   ]
  },
  {
   "cell_type": "code",
   "execution_count": 12,
   "id": "52f47e2b-8cca-4a5e-8527-dd847449abde",
   "metadata": {},
   "outputs": [
    {
     "data": {
      "text/plain": [
       "[4, 5, 4, 6, 6]"
      ]
     },
     "execution_count": 12,
     "metadata": {},
     "output_type": "execute_result"
    }
   ],
   "source": [
    "x_length"
   ]
  },
  {
   "cell_type": "code",
   "execution_count": null,
   "id": "2a9cc496-0da5-4791-95f3-4d84218503da",
   "metadata": {},
   "outputs": [],
   "source": []
  },
  {
   "cell_type": "code",
   "execution_count": 8,
   "id": "c1d6412a-224a-4450-88af-982292d3d525",
   "metadata": {},
   "outputs": [],
   "source": [
    "map_name_to_length = {}\n",
    "for name in x:\n",
    "    map_name_to_length[name] = len(name)"
   ]
  },
  {
   "cell_type": "code",
   "execution_count": 13,
   "id": "0882b341-b1ba-4986-8afb-5605179caf63",
   "metadata": {},
   "outputs": [],
   "source": [
    "map_name_to_length = {name: len(name) for name in x}"
   ]
  },
  {
   "cell_type": "code",
   "execution_count": 14,
   "id": "1e2b5c30-6f78-4d07-bf78-57daf021456f",
   "metadata": {},
   "outputs": [
    {
     "data": {
      "text/plain": [
       "{'Alex': 4, 'Simon': 5, 'June': 4, 'Sophia': 6, 'Tobias': 6}"
      ]
     },
     "execution_count": 14,
     "metadata": {},
     "output_type": "execute_result"
    }
   ],
   "source": [
    "map_name_to_length"
   ]
  },
  {
   "cell_type": "code",
   "execution_count": null,
   "id": "d19561a6-af24-43bd-abd8-f09881ebc30d",
   "metadata": {},
   "outputs": [],
   "source": []
  }
 ],
 "metadata": {
  "kernelspec": {
   "display_name": "Python 3 (ipykernel)",
   "language": "python",
   "name": "python3"
  },
  "language_info": {
   "codemirror_mode": {
    "name": "ipython",
    "version": 3
   },
   "file_extension": ".py",
   "mimetype": "text/x-python",
   "name": "python",
   "nbconvert_exporter": "python",
   "pygments_lexer": "ipython3",
   "version": "3.11.1"
  }
 },
 "nbformat": 4,
 "nbformat_minor": 5
}

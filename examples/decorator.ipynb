{
 "cells": [
  {
   "cell_type": "code",
   "execution_count": 8,
   "id": "be48caa6-30e0-4ffb-b9bd-84cd7080a2f3",
   "metadata": {},
   "outputs": [],
   "source": [
    "from functools import lru_cache\n",
    "import time"
   ]
  },
  {
   "cell_type": "code",
   "execution_count": 26,
   "id": "3a7a1cf7-ef3f-4aae-b8c3-2bcd705430ab",
   "metadata": {},
   "outputs": [],
   "source": [
    "@lru_cache\n",
    "def expensive_calculation(name):\n",
    "    time.sleep(10)\n",
    "    print(\"VERY EXPENSIVE\")\n",
    "    print(name)\n",
    "    return \"something\""
   ]
  },
  {
   "cell_type": "code",
   "execution_count": 27,
   "id": "a905084f-c5a6-499b-a8ca-20abd4e89ba4",
   "metadata": {},
   "outputs": [
    {
     "name": "stdout",
     "output_type": "stream",
     "text": [
      "VERY EXPENSIVE\n",
      "Peter\n"
     ]
    },
    {
     "data": {
      "text/plain": [
       "'something'"
      ]
     },
     "execution_count": 27,
     "metadata": {},
     "output_type": "execute_result"
    }
   ],
   "source": [
    "expensive_calculation(\"Peter\")"
   ]
  },
  {
   "cell_type": "code",
   "execution_count": 31,
   "id": "8d5e0d48-53fc-408f-82c9-2dff51079b0a",
   "metadata": {},
   "outputs": [
    {
     "data": {
      "text/plain": [
       "'something'"
      ]
     },
     "execution_count": 31,
     "metadata": {},
     "output_type": "execute_result"
    }
   ],
   "source": [
    "expensive_calculation(\"Peter\")"
   ]
  },
  {
   "cell_type": "code",
   "execution_count": 29,
   "id": "5697a1ae-4ec2-479d-8e43-e6d5c0e45e54",
   "metadata": {},
   "outputs": [
    {
     "name": "stdout",
     "output_type": "stream",
     "text": [
      "VERY EXPENSIVE\n",
      "Joan\n"
     ]
    },
    {
     "data": {
      "text/plain": [
       "'something'"
      ]
     },
     "execution_count": 29,
     "metadata": {},
     "output_type": "execute_result"
    }
   ],
   "source": [
    "expensive_calculation(\"Joan\")"
   ]
  },
  {
   "cell_type": "code",
   "execution_count": 32,
   "id": "743068a2-3ccc-4392-a111-afc4cc6ac22e",
   "metadata": {},
   "outputs": [
    {
     "data": {
      "text/plain": [
       "'something'"
      ]
     },
     "execution_count": 32,
     "metadata": {},
     "output_type": "execute_result"
    }
   ],
   "source": [
    "expensive_calculation(\"Joan\")"
   ]
  },
  {
   "cell_type": "code",
   "execution_count": 33,
   "id": "5bf786e1-4af6-4a64-a8f1-a48fae7d8d15",
   "metadata": {},
   "outputs": [
    {
     "name": "stdout",
     "output_type": "stream",
     "text": [
      "VERY EXPENSIVE\n",
      "Guido\n"
     ]
    },
    {
     "data": {
      "text/plain": [
       "'something'"
      ]
     },
     "execution_count": 33,
     "metadata": {},
     "output_type": "execute_result"
    }
   ],
   "source": [
    "expensive_calculation(\"Guido\")"
   ]
  },
  {
   "cell_type": "code",
   "execution_count": null,
   "id": "cc3c9feb-523a-4314-990b-6a86e03b4b14",
   "metadata": {},
   "outputs": [],
   "source": []
  }
 ],
 "metadata": {
  "kernelspec": {
   "display_name": "Python 3 (ipykernel)",
   "language": "python",
   "name": "python3"
  },
  "language_info": {
   "codemirror_mode": {
    "name": "ipython",
    "version": 3
   },
   "file_extension": ".py",
   "mimetype": "text/x-python",
   "name": "python",
   "nbconvert_exporter": "python",
   "pygments_lexer": "ipython3",
   "version": "3.11.1"
  }
 },
 "nbformat": 4,
 "nbformat_minor": 5
}

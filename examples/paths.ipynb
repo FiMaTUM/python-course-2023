{
 "cells": [
  {
   "cell_type": "markdown",
   "id": "790061b2-ea50-4c3c-b8c4-9655e2ba9a89",
   "metadata": {},
   "source": [
    "https://docs.python.org/3/library/pathlib.html"
   ]
  },
  {
   "cell_type": "code",
   "execution_count": 1,
   "id": "b3e271bc-c895-465f-9226-90356d80efe5",
   "metadata": {},
   "outputs": [],
   "source": [
    "from pathlib import Path"
   ]
  },
  {
   "cell_type": "code",
   "execution_count": 7,
   "id": "5d247a20-1c62-4113-b3d2-8664307d4d91",
   "metadata": {},
   "outputs": [],
   "source": [
    "current_dir = Path(\".\")"
   ]
  },
  {
   "cell_type": "code",
   "execution_count": 8,
   "id": "4750aa88-ca07-4059-ace9-2953bff81ecd",
   "metadata": {},
   "outputs": [
    {
     "data": {
      "text/plain": [
       "WindowsPath('C:/Users/AlexanderKammerer/repos/kummerer94/python-course-2023')"
      ]
     },
     "execution_count": 8,
     "metadata": {},
     "output_type": "execute_result"
    }
   ],
   "source": [
    "current_dir.absolute()"
   ]
  },
  {
   "cell_type": "code",
   "execution_count": 9,
   "id": "69f04c76-a332-441e-b30d-cab224b7b8fc",
   "metadata": {},
   "outputs": [
    {
     "data": {
      "text/plain": [
       "WindowsPath('C:/Users/AlexanderKammerer')"
      ]
     },
     "execution_count": 9,
     "metadata": {},
     "output_type": "execute_result"
    }
   ],
   "source": [
    "Path.home()"
   ]
  },
  {
   "cell_type": "code",
   "execution_count": 10,
   "id": "eecc0213-e7fd-42c1-a020-1665de8d26f8",
   "metadata": {},
   "outputs": [
    {
     "data": {
      "text/plain": [
       "<generator object Path.iterdir at 0x000001E77825F5A0>"
      ]
     },
     "execution_count": 10,
     "metadata": {},
     "output_type": "execute_result"
    }
   ],
   "source": [
    "current_dir.iterdir()"
   ]
  },
  {
   "cell_type": "code",
   "execution_count": 14,
   "id": "01a0216a-440a-4160-833a-8502cf07cd31",
   "metadata": {},
   "outputs": [
    {
     "name": "stdout",
     "output_type": "stream",
     "text": [
      ".git\n",
      "False\n",
      ".gitignore\n",
      "True\n",
      ".ipynb_checkpoints\n",
      "False\n",
      ".venv\n",
      "False\n",
      "course-notes.md\n",
      "True\n",
      "examples\n",
      "False\n",
      "lib\n",
      "False\n",
      "more-links.md\n",
      "True\n",
      "objects.ipynb\n",
      "True\n",
      "paths.ipynb\n",
      "True\n",
      "preparation.md\n",
      "True\n",
      "README.md\n",
      "True\n",
      "tools.md\n",
      "True\n",
      "Untitled.ipynb\n",
      "True\n",
      "venv.md\n",
      "True\n",
      "__pycache__\n",
      "False\n"
     ]
    }
   ],
   "source": [
    "for elem in current_dir.iterdir():\n",
    "    print(elem)\n",
    "    print(elem.is_file())"
   ]
  },
  {
   "cell_type": "code",
   "execution_count": 15,
   "id": "e1c23736-624b-4a2c-b48b-8233181d45e0",
   "metadata": {},
   "outputs": [
    {
     "data": {
      "text/plain": [
       "WindowsPath('.')"
      ]
     },
     "execution_count": 15,
     "metadata": {},
     "output_type": "execute_result"
    }
   ],
   "source": [
    "current_dir"
   ]
  },
  {
   "cell_type": "code",
   "execution_count": 27,
   "id": "b56b58b7-63e1-44f1-8692-d222fc126eec",
   "metadata": {},
   "outputs": [
    {
     "data": {
      "text/plain": [
       "False"
      ]
     },
     "execution_count": 27,
     "metadata": {},
     "output_type": "execute_result"
    }
   ],
   "source": [
    "(current_dir / \"examples\" / \"app5.py\").exists()"
   ]
  },
  {
   "cell_type": "code",
   "execution_count": 35,
   "id": "a2eb13eb-fbd5-4244-9178-8576f8fa0c2e",
   "metadata": {},
   "outputs": [
    {
     "name": "stdout",
     "output_type": "stream",
     "text": [
      "app.py\n",
      "('C:\\\\', 'Users', 'AlexanderKammerer', 'repos', 'kummerer94', 'python-course-2023', 'examples', 'app.py')\n",
      "classes.py\n",
      "('C:\\\\', 'Users', 'AlexanderKammerer', 'repos', 'kummerer94', 'python-course-2023', 'examples', 'classes.py')\n",
      "first.py\n",
      "('C:\\\\', 'Users', 'AlexanderKammerer', 'repos', 'kummerer94', 'python-course-2023', 'examples', 'first.py')\n",
      "requirements.txt\n",
      "('C:\\\\', 'Users', 'AlexanderKammerer', 'repos', 'kummerer94', 'python-course-2023', 'examples', 'requirements.txt')\n"
     ]
    }
   ],
   "source": [
    "for elem in (current_dir / \"examples\").iterdir():\n",
    "    print(elem.name)\n",
    "    print(elem.absolute().parts)"
   ]
  },
  {
   "cell_type": "code",
   "execution_count": null,
   "id": "300e6007-087d-4141-b620-19f53014a958",
   "metadata": {},
   "outputs": [],
   "source": []
  }
 ],
 "metadata": {
  "kernelspec": {
   "display_name": "Python 3 (ipykernel)",
   "language": "python",
   "name": "python3"
  },
  "language_info": {
   "codemirror_mode": {
    "name": "ipython",
    "version": 3
   },
   "file_extension": ".py",
   "mimetype": "text/x-python",
   "name": "python",
   "nbconvert_exporter": "python",
   "pygments_lexer": "ipython3",
   "version": "3.11.1"
  }
 },
 "nbformat": 4,
 "nbformat_minor": 5
}
